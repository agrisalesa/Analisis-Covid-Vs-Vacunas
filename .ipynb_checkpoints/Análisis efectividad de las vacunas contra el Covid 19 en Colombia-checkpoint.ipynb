{
 "cells": [
  {
   "cell_type": "markdown",
   "metadata": {},
   "source": [
    "### Introducción"
   ]
  },
  {
   "cell_type": "markdown",
   "metadata": {},
   "source": [
    "Dentro del equipo de prevención de fraude de MercadoLibre nos enfrentamos diariamente a operaciones de tipo fraudulentas, es por eso mismo, que siendo un volumen tan masivo de transacciones debemos apoyarnos en la analítica de datos creando modelos matemáticos que nos permitan predecir a tiempo si un movimiento es de tipo fraude o no lo es."
   ]
  },
  {
   "cell_type": "markdown",
   "metadata": {},
   "source": [
    "Dentro de la inteligencia artificial hay diversas tecnologías que nos podemos apoyar para aforntar un problema de dicha índole. El aprendizaje automático (Machine Learning) nos permite a partir de experiencias pasadas tratar de inferir lo que va a suceder en el futuro."
   ]
  },
  {
   "cell_type": "markdown",
   "metadata": {},
   "source": [
    "Dentro del Machine Learning existe dos problemas fundamentales que se podrían clasificar de la siguiente manera:"
   ]
  },
  {
   "cell_type": "markdown",
   "metadata": {},
   "source": [
    "**Aprendizaje no supervisado:** Los problemas de este tipo es cuando no tenemos una variable objetivo, sino que lo que buscamos es a partir de un conjunto de variables crear segmentos o grupos que se asemejen entre sí y sean lo más disímiles con los grupos restantes.  "
   ]
  },
  {
   "cell_type": "markdown",
   "metadata": {},
   "source": [
    "**Aprendizaje supervisado:** Contrario a lo anterior cuando nos enfrentamos a un problema de este tipo sí tenemos una variable objetivo que queremos modelar o predecir a partir de otras variables predictoras."
   ]
  },
  {
   "cell_type": "markdown",
   "metadata": {},
   "source": [
    "Concretamente en el equipo de Fraude de MercadoLibre nos enfrentamos a un problema de clasificación binaria, en otras palabras, sí una transacción es fraude o no es fraude (1 o 0)"
   ]
  },
  {
   "cell_type": "markdown",
   "metadata": {},
   "source": [
    "### Desarrollo"
   ]
  },
  {
   "cell_type": "markdown",
   "metadata": {},
   "source": [
    "Todo el código para desarrollar el modelo será elaborado en Python 3 e inicialmente realizaremos una exploración de los datos para evitar la presencia de datos nulos o erróneos. Dejaremos una celda para la importación de las librerías, y posteriormente procederemos con la importación del dataset y el desarrollo del problema."
   ]
  },
  {
   "cell_type": "markdown",
   "metadata": {},
   "source": [
    "### Importación de las librerías"
   ]
  },
  {
   "cell_type": "code",
   "execution_count": 240,
   "metadata": {},
   "outputs": [],
   "source": [
    "import pandas as pd \n",
    "%matplotlib inline"
   ]
  },
  {
   "cell_type": "markdown",
   "metadata": {},
   "source": [
    "### Lectura del dataset"
   ]
  },
  {
   "cell_type": "code",
   "execution_count": 165,
   "metadata": {},
   "outputs": [],
   "source": [
    "df = pd.read_csv('MercadoLibre.csv')"
   ]
  },
  {
   "cell_type": "markdown",
   "metadata": {},
   "source": [
    "### Análisis de datos automático con Pandas-Profiling"
   ]
  },
  {
   "cell_type": "markdown",
   "metadata": {},
   "source": [
    "### Conclusiones"
   ]
  },
  {
   "cell_type": "markdown",
   "metadata": {},
   "source": [
    "* Para lograr un buen modelo es sumamente importante la exploración inicial de los datos evitando errores de calidad de los mismos.\n",
    "* Es importante probar diferentes algoritmos, en ocasiones algunos tienen mejor performance que otros según el conjunto de datos.\n",
    "* Se pudo apreciar la vital importancia de balancear la variable objetivo, el performance de los modelos se incrementó abruptamente y nos dejó un modelo bastante satisfactorio.\n",
    "* SMOTE como técnica de balanceo es muy útil y fácil de implementar nos crea observaciones sintéticas de la clase desbalanceada.\n",
    "* La simplicidad es importante, un Random Forest como modelo doblegó a un XGBoost, tanto en performance como en tiempo de ejecución (Navaja de Ockam)"
   ]
  },
  {
   "cell_type": "markdown",
   "metadata": {},
   "source": [
    "### Autor"
   ]
  },
  {
   "cell_type": "markdown",
   "metadata": {},
   "source": [
    "Andrés Grisales Ardila"
   ]
  },
  {
   "cell_type": "code",
   "execution_count": null,
   "metadata": {},
   "outputs": [],
   "source": []
  }
 ],
 "metadata": {
  "kernelspec": {
   "display_name": "Python 3",
   "language": "python",
   "name": "python3"
  },
  "language_info": {
   "codemirror_mode": {
    "name": "ipython",
    "version": 3
   },
   "file_extension": ".py",
   "mimetype": "text/x-python",
   "name": "python",
   "nbconvert_exporter": "python",
   "pygments_lexer": "ipython3",
   "version": "3.7.4"
  }
 },
 "nbformat": 4,
 "nbformat_minor": 2
}
